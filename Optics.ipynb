{
 "cells": [
  {
   "cell_type": "code",
   "execution_count": 126,
   "metadata": {},
   "outputs": [
    {
     "name": "stdout",
     "output_type": "stream",
     "text": [
      "Fresnel Number =  1300500.0000000005\n"
     ]
    },
    {
     "data": {
      "image/png": "[encoded data removed]",
      "text/plain": [
       "<Figure size 432x288 with 1 Axes>"
      ]
     },
     "metadata": {
      "needs_background": "light"
     },
     "output_type": "display_data"
    },
    {
     "data": {
      "image/png": "[encoded data removed]",
      "text/plain": [
       "<Figure size 432x288 with 1 Axes>"
      ]
     },
     "metadata": {
      "needs_background": "light"
     },
     "output_type": "display_data"
    },
    {
     "data": {
      "image/png": "[encoded data removed]",
      "text/plain": [
       "<Figure size 432x288 with 1 Axes>"
      ]
     },
     "metadata": {
      "needs_background": "light"
     },
     "output_type": "display_data"
    }
   ],
   "source": [
    "import numpy as np\n",
    "import matplotlib.pyplot as plt\n",
    "from PIL import Image\n",
    "\n",
    "def propTF(u1,L,lam,z):\n",
    "    \"\"\" Propagation Transfer Function using Fresnel's approximation\n",
    "\n",
    "    Args:\n",
    "        u1: source plane field\n",
    "        L:  width of the plane\n",
    "        lam: wavelength of the monochromatic source\n",
    "        z:  propagation distance\n",
    "    \n",
    "\n",
    "    Returns: u2 the observation plane field\n",
    "    \"\"\"\n",
    "    \n",
    "    m,n = u1.shape            #input array size\n",
    "    dx = L/m                 #sample interval\n",
    "    k = 2*np.pi/lam          #wavenumber\n",
    "    fx = np.arange(-1/(2*dx),1/(2*dx),1/L,'float64')   #frequency co-ordinates\n",
    "    fy = fx\n",
    "    \n",
    "    [FX,FY] = np.meshgrid(fx,fy)\n",
    "    H = np.exp(-1j*np.pi*lam*z*(FX**2 + FY**2))#*np.exp(j*k*z)\n",
    "    H = np.fft.fftshift(H)\n",
    "    U1 = np.fft.fft2(np.fft.fftshift(u1))\n",
    "    U2 = H*U1\n",
    "    u2 = np.fft.ifftshift(np.fft.ifft2(U2))\n",
    "    return u2\n",
    "\n",
    "def rect(x):\n",
    "    return (0.5*(np.sign(x+0.5) - np.sign(x-0.5)));\n",
    "\n",
    "def main():\n",
    "\n",
    "    # Square Beam propagation\n",
    "    L1 = 0.5\n",
    "    M = 250\n",
    "    dx1 = L1/M\n",
    "    x1 = np.arange(-L1/2,L1/2,dx1,'float64')\n",
    "    y1 = x1    \n",
    "    lam = 0.5*(10**-11) #0.5nm\n",
    "    w = 0.00051 \n",
    "    z = 0.04\n",
    "    NF = (w*w)/(lam*z)\n",
    "    print('Fresnel Number = ',NF)\n",
    "    \n",
    "    [X1,Y1] = np.meshgrid(x1,y1)\n",
    "\n",
    "    u1 = rect(X1/(2*w))*rect(Y1/(2*w))\n",
    "    plt.figure()\n",
    "    plt.imshow(u1)\n",
    "    u2 = propTF(u1,L1,lam,z)\n",
    "    \n",
    "    #Plot the Results\n",
    "    plt.figure()\n",
    "    plt.imshow(np.abs(u2))\n",
    "    plt.figure()\n",
    "    plt.plot(np.abs(u2[(M//2 + 1),:]))\n",
    "    \n",
    "    # Periodic Grating\n",
    "    \n",
    "main()\n"
   ]
  }
 ],
 "metadata": {
  "kernelspec": {
   "display_name": "Python 3",
   "language": "python",
   "name": "python3"
  },
  "language_info": {
   "codemirror_mode": {
    "name": "ipython",
    "version": 3
   },
   "file_extension": ".py",
   "mimetype": "text/x-python",
   "name": "python",
   "nbconvert_exporter": "python",
   "pygments_lexer": "ipython3",
   "version": "3.6.6"
  }
 },
 "nbformat": 4,
 "nbformat_minor": 2
}
