{
 "cells": [
  {
   "cell_type": "code",
   "execution_count": 17,
   "metadata": {},
   "outputs": [],
   "source": [
    "import numpy as np\n",
    "from matplotlib import pyplot as plt\n",
    "\n",
    "def propTF(u1,L,lam,z):\n",
    "    \"\"\" Propagation Transfer Function using Fresnel's approximation\n",
    "\n",
    "    Args:\n",
    "        u1: source plane field\n",
    "        L:  width of the plane\n",
    "        lam: wavelength of the monochromatic source\n",
    "        z:  propagation distance\n",
    "    \n",
    "\n",
    "    Returns: u2 the observation plane field\n",
    "    \"\"\"\n",
    "    \n",
    "    m,n = u1.size            #input array size\n",
    "    dx = L/M                 #sample interval\n",
    "    k = 2*np.pi/lam          #wavenumber\n",
    "    fx = np.arange(-1/(2*dx),1/(2*dx),1/L,'float64')   #frequency co-ordinates\n",
    "    fy = fx\n",
    "    \n",
    "    [FX,FY] = np.meshgrid(fx,fy)\n",
    "    H = np.exp(-j*np.pi*lam*z*(FX**2 + FY**2))*np.exp(j*k*z)\n",
    "    H = np.fft.fftshift(H)\n",
    "    U1 = np.fft.fft2(np.fft.fftshift(u1))\n",
    "    U2 = H*U1\n",
    "    u2 = np.fft.ifftshift(np.fft.ifft2(U2))\n",
    "    return u2\n",
    "\n",
    "def rect(x):\n",
    "    return 1 if abs(x)<=0.5 else 0\n",
    "\n",
    "def main():\n",
    "    # Square Beam propagation\n",
    "    L1 = 0.5\n",
    "    M = 250\n",
    "    dx1 = L1/M\n",
    "    x1 = np.arange(-1/(2*dx1),1/(2*dx1),1/L1,'float64')\n",
    "    y1 = x1    \n",
    "    lam = 0.5*np.power(10,-6)\n",
    "    w = 0.051\n",
    "    z = 2000\n",
    "    \n",
    "    [X1,Y1] = np.meshgrid(x1,y1)\n",
    "    #u1 = rect(X1/(2*w))*rect(Y1/(2*w))\n",
    "    #u2 = propTF(u1,L1,lam,z)\n",
    "    \n",
    "    print(\"done\")\n"
   ]
  }
 ],
 "metadata": {
  "kernelspec": {
   "display_name": "Python 3",
   "language": "python",
   "name": "python3"
  },
  "language_info": {
   "codemirror_mode": {
    "name": "ipython",
    "version": 3
   },
   "file_extension": ".py",
   "mimetype": "text/x-python",
   "name": "python",
   "nbconvert_exporter": "python",
   "pygments_lexer": "ipython3",
   "version": "3.6.6"
  }
 },
 "nbformat": 4,
 "nbformat_minor": 2
}
